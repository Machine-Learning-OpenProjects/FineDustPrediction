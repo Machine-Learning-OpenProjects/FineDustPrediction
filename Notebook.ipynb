{
 "cells": [
  {
   "cell_type": "code",
   "execution_count": 1,
   "metadata": {
    "collapsed": true,
    "deletable": true,
    "editable": true
   },
   "outputs": [],
   "source": [
    "import tensorflow as tf\n",
    "import numpy as np\n",
    "import matplotlib.pyplot as plt\n",
    "%matplotlib inline"
   ]
  },
  {
   "cell_type": "code",
   "execution_count": 2,
   "metadata": {
    "collapsed": true,
    "deletable": true,
    "editable": true
   },
   "outputs": [],
   "source": [
    "csv = 'MonthlyAverageAirPollutionInSeoul.csv'\n",
    "\n",
    "seoul_map = [ # 9 by 8 matrix, 25 borough\n",
    "    [0, 0, 0, 0, '도봉구', '노원구', 0, 0],\n",
    "    [0, 0, 0, '강북구', '강북구', '노원구', '노원구', 0],\n",
    "    [0, '은평구', '종로구', '성북구', '성북구', '성북구', '중랑구', 0],\n",
    "    [0, '은평구', '서대문구', '종로구', '종로구', '동대문구', '중랑구', 0],\n",
    "    [0, '은평구', '서대문구', '서대문구', '중구', '성동구', '광진구', '강동구'],\n",
    "    [0, '마포구', '마포구', '마포구', '용산구', '강남구', '송파구', '강동구'],\n",
    "    ['강서구', '강서구', '영등포구', '동작구', '서초구', '강남구', '송파구', 0],\n",
    "    [0, '양천구', '영등포구', '관악구', '서초구', '강남구', '송파구', 0],\n",
    "    [0, '구로구', '금천구', '관악구', '서초구', 0, 0, 0]\n",
    "]\n",
    "\n",
    "with open(csv) as f:\n",
    "    raw_data = f.read().strip()"
   ]
  },
  {
   "cell_type": "code",
   "execution_count": 3,
   "metadata": {
    "collapsed": true,
    "deletable": true,
    "editable": true
   },
   "outputs": [],
   "source": [
    "del_quote = raw_data.replace(\"\\\"\", '')\n",
    "data = list(map(lambda x: x.split(','), del_quote.split('\\n')))[1:]\n",
    "\n",
    "splitted = []\n",
    "\n",
    "ptr = 0\n",
    "for i in range(len(data) // 39):\n",
    "    splitted.append(data[ptr:ptr+39])\n",
    "    ptr += 39\n",
    "    \n",
    "## test case\n",
    "for date_list in splitted:\n",
    "    date = date_list[0][0]\n",
    "    for local in date_list:\n",
    "        if date != local[0]:\n",
    "            raise ValueError(date + ' is not same as ' + 'local[0]')"
   ]
  },
  {
   "cell_type": "code",
   "execution_count": 4,
   "metadata": {
    "collapsed": true,
    "deletable": true,
    "editable": true
   },
   "outputs": [],
   "source": [
    "def filter_borough(dic):\n",
    "    return dict(filter(lambda t: '구' in t[0], dic.items()))\n",
    "\n",
    "pms = dict(map(lambda x: (x[0][0], dict(map(lambda x: (x[1], x[6]), x))), splitted))\n",
    "pms_filtered = dict(filter(lambda x: '' not in x[1].values(), pms.items()))\n",
    "pms_filtered2 = dict(map(lambda x: (x[0], filter_borough(x[1])), pms_filtered.items()))"
   ]
  },
  {
   "cell_type": "code",
   "execution_count": 5,
   "metadata": {
    "collapsed": true,
    "deletable": true,
    "editable": true
   },
   "outputs": [],
   "source": [
    "def dict2seoul(p):\n",
    "    return list(map(lambda t: list(map(lambda x: int(p[x]) if x != 0 else 0, t)), seoul_map))\n",
    "\n",
    "pms_mapped = dict(map(lambda p: (p[0], dict2seoul(p[1])), pms_filtered2.items()))\n",
    "pms_data = list(map(lambda x: x[1], sorted(pms_mapped.items())))\n",
    "\n",
    "pms_sampled = list(map(lambda i: pms_data[i:i+7], range(281 - 7)))\n",
    "pms_result = list(map(lambda x: list(map(lambda t: t[1], sorted(x[1].items()))), sorted(pms_filtered2.items())))[7:]"
   ]
  },
  {
   "cell_type": "code",
   "execution_count": 6,
   "metadata": {
    "collapsed": true
   },
   "outputs": [],
   "source": [
    "data_set = list(zip(pms_sampled, pms_result))\n",
    "np.random.shuffle(data_set)\n",
    "\n",
    "train_set, test_set = data_set[:250], data_set[250:]\n",
    "\n",
    "train_sampled = list(map(lambda x: x[0], train_set))\n",
    "train_result = list(map(lambda x: x[1], train_set))"
   ]
  },
  {
   "cell_type": "code",
   "execution_count": 7,
   "metadata": {
    "collapsed": false,
    "deletable": true,
    "editable": true
   },
   "outputs": [],
   "source": [
    "X = tf.placeholder(tf.float32, [None, 7, 9, 8])\n",
    "Y = tf.placeholder(tf.float32, [None, 25])\n",
    "\n",
    "X_transpose = tf.transpose(X, [0, 2, 3, 1])"
   ]
  },
  {
   "cell_type": "code",
   "execution_count": 8,
   "metadata": {
    "collapsed": false,
    "deletable": true,
    "editable": true
   },
   "outputs": [],
   "source": [
    "w1 = tf.get_variable('w1', shape=[3, 3, 7, 4],\n",
    "                    initializer=tf.random_normal_initializer(stddev=0.02))\n",
    "w2 = tf.get_variable('w2', shape=[3, 3, 4, 2],\n",
    "                    initializer=tf.random_normal_initializer(stddev=0.02))\n",
    "w3 = tf.get_variable('w3', shape=[3, 3, 2, 1],\n",
    "                    initializer=tf.random_normal_initializer(stddev=0.02))\n",
    "\n",
    "l1 = tf.nn.conv2d(X_transpose, w1, strides=[1, 1, 1, 1], padding='SAME')\n",
    "l1 = tf.nn.relu(tf.contrib.layers.batch_norm(l1))\n",
    "\n",
    "l2 = tf.nn.conv2d(l1, w2, strides=[1, 1, 1, 1], padding='SAME')\n",
    "l2 = tf.nn.relu(tf.contrib.layers.batch_norm(l2))\n",
    "\n",
    "l3 = tf.nn.conv2d(l2, w3, strides=[1, 1, 1, 1], padding='SAME')\n",
    "l3 = tf.nn.relu(tf.contrib.layers.batch_norm(l3))\n",
    "\n",
    "l3_reshaped = tf.reshape(l3, [-1, 9 * 8, 1])"
   ]
  },
  {
   "cell_type": "code",
   "execution_count": 9,
   "metadata": {
    "collapsed": false
   },
   "outputs": [],
   "source": [
    "gru_cell = tf.contrib.rnn.LSTMCell(8)\n",
    "out, state = tf.nn.dynamic_rnn(gru_cell, l3_reshaped, dtype=tf.float32)\n",
    "\n",
    "l4 = tf.transpose(out, [1, 0, 2])[-1]"
   ]
  },
  {
   "cell_type": "code",
   "execution_count": 10,
   "metadata": {
    "collapsed": false
   },
   "outputs": [],
   "source": [
    "w4 = tf.get_variable('w4', shape=[8, 25],\n",
    "                    initializer=tf.random_normal_initializer(stddev=0.02))\n",
    "\n",
    "l5 = tf.contrib.layers.batch_norm(tf.matmul(l4, w4))\n",
    "pred = tf.nn.relu(l5)\n",
    "\n",
    "loss = tf.reduce_mean(tf.square(Y - pred))\n",
    "opt = tf.train.AdamOptimizer(0.01).minimize(loss)"
   ]
  },
  {
   "cell_type": "code",
   "execution_count": 11,
   "metadata": {
    "collapsed": false
   },
   "outputs": [],
   "source": [
    "sess = tf.Session()\n",
    "sess.run(tf.global_variables_initializer())"
   ]
  },
  {
   "cell_type": "code",
   "execution_count": 12,
   "metadata": {
    "collapsed": false
   },
   "outputs": [
    {
     "name": "stdout",
     "output_type": "stream",
     "text": [
      "0 2729.37\n",
      "100 2679.33\n",
      "200 2674.13\n",
      "300 2669.13\n",
      "400 2664.29\n",
      "500 2659.63\n",
      "600 2654.41\n",
      "700 2649.83\n",
      "800 2624.35\n",
      "900 2611.14\n"
     ]
    }
   ],
   "source": [
    "d_loss = []\n",
    "\n",
    "for i in range(1000):  \n",
    "    _, new_loss = sess.run([opt, loss], feed_dict={X: train_sampled, Y: train_result})\n",
    "\n",
    "    d_loss.append(new_loss)\n",
    "    \n",
    "    if i % 100 == 0:\n",
    "        print(i, new_loss)"
   ]
  },
  {
   "cell_type": "code",
   "execution_count": 13,
   "metadata": {
    "collapsed": false
   },
   "outputs": [
    {
     "data": {
      "text/plain": [
       "[<matplotlib.lines.Line2D at 0x11f7fbda0>]"
      ]
     },
     "execution_count": 13,
     "metadata": {},
     "output_type": "execute_result"
    },
    {
     "data": {
      "image/png": "[encoded data removed]",
      "text/plain": [
       "<matplotlib.figure.Figure at 0x11eebad30>"
      ]
     },
     "metadata": {},
     "output_type": "display_data"
    }
   ],
   "source": [
    "plt.plot(d_loss)"
   ]
  },
  {
   "cell_type": "code",
   "execution_count": 14,
   "metadata": {
    "collapsed": true
   },
   "outputs": [],
   "source": [
    "sess.close()"
   ]
  }
 ],
 "metadata": {
  "kernelspec": {
   "display_name": "Python 3",
   "language": "python",
   "name": "python3"
  },
  "language_info": {
   "codemirror_mode": {
    "name": "ipython",
    "version": 3
   },
   "file_extension": ".py",
   "mimetype": "text/x-python",
   "name": "python",
   "nbconvert_exporter": "python",
   "pygments_lexer": "ipython3",
   "version": "3.6.0"
  }
 },
 "nbformat": 4,
 "nbformat_minor": 2
}
