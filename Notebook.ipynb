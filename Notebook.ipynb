{
 "cells": [
  {
   "cell_type": "code",
   "execution_count": 1,
   "metadata": {
    "collapsed": true,
    "deletable": true,
    "editable": true
   },
   "outputs": [],
   "source": [
    "import tensorflow as tf\n",
    "import numpy as np\n",
    "import matplotlib.pyplot as plt\n",
    "%matplotlib inline"
   ]
  },
  {
   "cell_type": "code",
   "execution_count": 2,
   "metadata": {
    "collapsed": true,
    "deletable": true,
    "editable": true
   },
   "outputs": [],
   "source": [
    "LOCATION_CNT = 39\n",
    "BOROUGH_CNT = 25\n",
    "WEEKLY_BATCH = 7\n",
    "\n",
    "TEST_SIZE = 15\n",
    "TRAIN_SIZE = 240\n",
    "BATCH_SIZE = 40\n",
    "\n",
    "TRAIN_ITER = 200\n",
    "BATCH_ITER = TRAIN_SIZE // BATCH_SIZE"
   ]
  },
  {
   "cell_type": "code",
   "execution_count": 3,
   "metadata": {
    "collapsed": true,
    "deletable": true,
    "editable": true
   },
   "outputs": [],
   "source": [
    "csv_name = 'MonthlyAverageAirPollutionInSeoul.csv'\n",
    "\n",
    "seoul_map = [ # 9 by 8 matrix, 25 borough\n",
    "    [0, 0, 0, 0, '도봉구', '노원구', 0, 0],\n",
    "    [0, 0, 0, '강북구', '강북구', '노원구', '노원구', 0],\n",
    "    [0, '은평구', '종로구', '성북구', '성북구', '성북구', '중랑구', 0],\n",
    "    [0, '은평구', '서대문구', '종로구', '종로구', '동대문구', '중랑구', 0],\n",
    "    [0, '은평구', '서대문구', '서대문구', '중구', '성동구', '광진구', '강동구'],\n",
    "    [0, '마포구', '마포구', '마포구', '용산구', '강남구', '송파구', '강동구'],\n",
    "    ['강서구', '강서구', '영등포구', '동작구', '서초구', '강남구', '송파구', 0],\n",
    "    [0, '양천구', '영등포구', '관악구', '서초구', '강남구', '송파구', 0],\n",
    "    [0, '구로구', '금천구', '관악구', '서초구', 0, 0, 0]\n",
    "]"
   ]
  },
  {
   "cell_type": "code",
   "execution_count": 4,
   "metadata": {
    "collapsed": false,
    "deletable": true,
    "editable": true
   },
   "outputs": [],
   "source": [
    "def read_csv(name):\n",
    "    with open(name) as f:\n",
    "        raw_data = f.read().strip()\n",
    "\n",
    "    del_quote = raw_data.replace(\"\\\"\", '')\n",
    "    data = list(map(lambda x: x.split(','), del_quote.split('\\n')))[1:] # csv header\n",
    "\n",
    "    splitted = []\n",
    "\n",
    "    ptr = 0\n",
    "    for i in range(len(data) // LOCATION_CNT):\n",
    "        splitted.append(data[ptr:ptr+LOCATION_CNT])\n",
    "        ptr += LOCATION_CNT\n",
    "    \n",
    "    ## test case\n",
    "    for date_list in splitted:\n",
    "        date = date_list[0][0] # index 0:date\n",
    "        for local in date_list:\n",
    "            if date != local[0]:\n",
    "                raise ValueError(date + ' is not same as ' + 'local[0]')\n",
    "    \n",
    "    def filter_borough(dic):\n",
    "        return dict(filter(lambda t: '구' in t[0], dic.items())) # filter not road name only borough \n",
    "\n",
    "    # index 0:date, 1:local name, 6:pms\n",
    "    pms = dict(map(lambda x: (x[0][0], dict(map(lambda t: (t[1], t[6]), x))), splitted))\n",
    "    pms_filtered = dict(filter(lambda x: '' not in x[1].values(), pms.items())) # csv data contains spaces\n",
    "    pms_filtered2 = dict(map(lambda x: (x[0], filter_borough(x[1])), pms_filtered.items()))\n",
    "    \n",
    "    return pms_filtered2"
   ]
  },
  {
   "cell_type": "code",
   "execution_count": 5,
   "metadata": {
    "collapsed": false,
    "deletable": true,
    "editable": true
   },
   "outputs": [],
   "source": [
    "def geographical_mapping(pms_data):\n",
    "    def dict2seoul(p):\n",
    "        return list(map(lambda t: list(map(lambda x: int(p[x]) if x != 0 else 0, t)), seoul_map))\n",
    "\n",
    "    # map dict to seoul geographic map\n",
    "    pms_mapped = dict(map(lambda p: (p[0], dict2seoul(p[1])), pms_data.items())) \n",
    "    return pms_mapped"
   ]
  },
  {
   "cell_type": "code",
   "execution_count": 6,
   "metadata": {
    "collapsed": true,
    "deletable": true,
    "editable": true
   },
   "outputs": [],
   "source": [
    "def generate_dataset(data):\n",
    "    pms_mapped = geographical_mapping(data)\n",
    "    pms_data = list(map(lambda x: x[1], sorted(pms_mapped.items()))) \n",
    "\n",
    "    # tie data to WEEKLY_BATCH(7) batches\n",
    "    pms_sampled = list(map(lambda i: pms_data[i:i+WEEKLY_BATCH], range(len(pms_data) - WEEKLY_BATCH - 1)))\n",
    "    pms_result = list(map(lambda x: list(map(lambda t: t[1], sorted(x[1].items()))), sorted(data.items())))\n",
    "    pms_result = pms_result[WEEKLY_BATCH+1:]\n",
    "    \n",
    "    return pms_sampled, pms_result"
   ]
  },
  {
   "cell_type": "code",
   "execution_count": 7,
   "metadata": {
    "collapsed": false,
    "deletable": true,
    "editable": true
   },
   "outputs": [],
   "source": [
    "pms_data = read_csv(csv_name)\n",
    "pms_sampled, pms_result = generate_dataset(pms_data)"
   ]
  },
  {
   "cell_type": "code",
   "execution_count": 8,
   "metadata": {
    "collapsed": false,
    "deletable": true,
    "editable": true
   },
   "outputs": [],
   "source": [
    "test_sampled = pms_sampled[-TEST_SIZE:]\n",
    "test_result = pms_result[-TEST_SIZE:]\n",
    "\n",
    "data_set = list(zip(pms_sampled[:-TEST_SIZE], pms_result[:-TEST_SIZE]))\n",
    "np.random.shuffle(data_set)\n",
    "\n",
    "train_set, cv_set = data_set[:TRAIN_SIZE], data_set[TRAIN_SIZE:]\n",
    "\n",
    "train_sampled = list(map(lambda x: x[0], train_set))\n",
    "train_result = list(map(lambda x: x[1], train_set))\n",
    "\n",
    "cv_sampled = list(map(lambda x: x[0], cv_set))\n",
    "cv_result = list(map(lambda x: x[1], cv_set))"
   ]
  },
  {
   "cell_type": "code",
   "execution_count": 9,
   "metadata": {
    "collapsed": false,
    "deletable": true,
    "editable": true
   },
   "outputs": [],
   "source": [
    "X = tf.placeholder(tf.float32, [None, WEEKLY_BATCH, 9, 8]) # metrix size [9, 8]\n",
    "Y = tf.placeholder(tf.float32, [None, BOROUGH_CNT])\n",
    "\n",
    "Xt = tf.transpose(X, [1, 0, 2, 3])"
   ]
  },
  {
   "cell_type": "code",
   "execution_count": 10,
   "metadata": {
    "collapsed": false,
    "deletable": true,
    "editable": true
   },
   "outputs": [],
   "source": [
    "reused = False\n",
    "\n",
    "def layer2conv(layer):\n",
    "    global reused\n",
    "    \n",
    "    with tf.variable_scope('conv_layer', reuse=reused):\n",
    "        w1 = tf.get_variable('w1', shape=[3, 3, 1, 4],\n",
    "                            initializer=tf.random_normal_initializer(stddev=0.02))\n",
    "        w2 = tf.get_variable('w2', shape=[3, 3, 4, 8],\n",
    "                            initializer=tf.random_normal_initializer(stddev=0.02))\n",
    "        w3 = tf.get_variable('w3', shape=[3, 3, 8, 16],\n",
    "                            initializer=tf.random_normal_initializer(stddev=0.02))\n",
    "        \n",
    "        layerT = tf.reshape(layer, [-1, 9, 8, 1])\n",
    "        \n",
    "        l1 = tf.nn.conv2d(layerT, w1, strides=[1, 1, 1, 1], padding='SAME')\n",
    "        l1 = tf.nn.relu(tf.contrib.layers.batch_norm(l1))\n",
    "        \n",
    "        l2 = tf.nn.conv2d(l1, w2, strides=[1, 1, 1, 1], padding='SAME')\n",
    "        l2 = tf.nn.relu(tf.contrib.layers.batch_norm(l2))\n",
    "        \n",
    "        l3 = tf.nn.conv2d(l2, w3, strides=[1, 1, 1, 1], padding='SAME')\n",
    "        l3 = tf.nn.relu(tf.contrib.layers.batch_norm(l3))\n",
    "        \n",
    "        l3_reshaped = tf.reshape(l3, [-1, 9 * 8 * 16]) # flatten conv layer\n",
    "    \n",
    "    reused = True\n",
    "    return l3_reshaped\n",
    "\n",
    "conv = [layer2conv(Xt[i]) for i in range(WEEKLY_BATCH)]\n",
    "convT = tf.transpose(conv, [1, 0, 2])"
   ]
  },
  {
   "cell_type": "code",
   "execution_count": 11,
   "metadata": {
    "collapsed": false,
    "deletable": true,
    "editable": true
   },
   "outputs": [],
   "source": [
    "gru_cell = tf.contrib.rnn.LSTMCell(8)\n",
    "out, state = tf.nn.dynamic_rnn(gru_cell, convT, dtype=tf.float32)\n",
    "\n",
    "l4 = tf.transpose(out, [1, 0, 2])[-1]"
   ]
  },
  {
   "cell_type": "code",
   "execution_count": 12,
   "metadata": {
    "collapsed": false,
    "deletable": true,
    "editable": true
   },
   "outputs": [],
   "source": [
    "w4 = tf.get_variable('w4', shape=[8, BOROUGH_CNT],\n",
    "                    initializer=tf.random_normal_initializer(stddev=0.02))\n",
    "\n",
    "l5 = tf.contrib.layers.batch_norm(tf.matmul(l4, w4))\n",
    "pred = tf.nn.relu(l5)\n",
    "\n",
    "loss = tf.reduce_mean(tf.square(Y - pred))\n",
    "opt = tf.train.AdamOptimizer(0.1).minimize(loss)"
   ]
  },
  {
   "cell_type": "code",
   "execution_count": 13,
   "metadata": {
    "collapsed": false,
    "deletable": true,
    "editable": true
   },
   "outputs": [],
   "source": [
    "sess = tf.Session()\n",
    "sess.run(tf.global_variables_initializer())"
   ]
  },
  {
   "cell_type": "code",
   "execution_count": 14,
   "metadata": {
    "collapsed": false,
    "deletable": true,
    "editable": true
   },
   "outputs": [
    {
     "name": "stdout",
     "output_type": "stream",
     "text": [
      "0.0 2652.21\n",
      "0.1 1679.83\n",
      "0.2 1073.74\n",
      "0.3 719.528\n",
      "0.4 533.242\n",
      "0.5 441.817\n",
      "0.6 402.002\n",
      "0.7 385.754\n",
      "0.8 379.45\n",
      "0.9 377.035\n",
      "1.0 376.087\n"
     ]
    }
   ],
   "source": [
    "train_loss = []\n",
    "cv_loss = []\n",
    "\n",
    "for i in range(TRAIN_ITER + 1):\n",
    "    ptr = 0\n",
    "    for _ in range(BATCH_ITER):\n",
    "        _, trainloss = sess.run([opt, loss], feed_dict={X: train_sampled[ptr:ptr+BATCH_SIZE], \n",
    "                                                       Y: train_result[ptr:ptr+BATCH_SIZE]})\n",
    "        \n",
    "        cvloss = sess.run(loss, feed_dict={X: cv_sampled, Y: cv_result})\n",
    "        \n",
    "        ptr += BATCH_SIZE\n",
    "\n",
    "    train_loss.append(trainloss)\n",
    "    cv_loss.append(cvloss)\n",
    "    \n",
    "    if i % (TRAIN_ITER // 10) == 0:\n",
    "        print(i/TRAIN_ITER, cvloss)"
   ]
  },
  {
   "cell_type": "code",
   "execution_count": 15,
   "metadata": {
    "collapsed": false,
    "deletable": true,
    "editable": true
   },
   "outputs": [
    {
     "data": {
      "text/plain": [
       "<matplotlib.legend.Legend at 0x7f4288072c88>"
      ]
     },
     "execution_count": 15,
     "metadata": {},
     "output_type": "execute_result"
    },
    {
     "data": {
      "image/png": "[encoded data removed]",
      "text/plain": [
       "<matplotlib.figure.Figure at 0x7f4293e4fa20>"
      ]
     },
     "metadata": {},
     "output_type": "display_data"
    }
   ],
   "source": [
    "plt.plot(train_loss, label='train')\n",
    "plt.plot(cv_loss, label='cross val')\n",
    "plt.legend()"
   ]
  },
  {
   "cell_type": "code",
   "execution_count": 16,
   "metadata": {
    "collapsed": false
   },
   "outputs": [
    {
     "data": {
      "text/plain": [
       "<matplotlib.legend.Legend at 0x7f42687aee80>"
      ]
     },
     "execution_count": 16,
     "metadata": {},
     "output_type": "execute_result"
    },
    {
     "data": {
      "image/png": "[encoded data removed]",
      "text/plain": [
       "<matplotlib.figure.Figure at 0x7f4293e45a58>"
      ]
     },
     "metadata": {},
     "output_type": "display_data"
    }
   ],
   "source": [
    "predict = sess.run(pred, feed_dict={X: test_sampled})\n",
    "pred_gangnam = list(map(lambda x: x[0], predict))\n",
    "real_gangnam = list(map(lambda x: x[0], test_result))\n",
    "\n",
    "plt.plot(pred_gangnam, label='predict')\n",
    "plt.plot(real_gangnam, label='real')\n",
    "plt.legend()"
   ]
  },
  {
   "cell_type": "code",
   "execution_count": 17,
   "metadata": {
    "collapsed": true,
    "deletable": true,
    "editable": true
   },
   "outputs": [],
   "source": [
    "sess.close()"
   ]
  }
 ],
 "metadata": {
  "kernelspec": {
   "display_name": "Python 3",
   "language": "python",
   "name": "python3"
  },
  "language_info": {
   "codemirror_mode": {
    "name": "ipython",
    "version": 3
   },
   "file_extension": ".py",
   "mimetype": "text/x-python",
   "name": "python",
   "nbconvert_exporter": "python",
   "pygments_lexer": "ipython3",
   "version": "3.5.2"
  }
 },
 "nbformat": 4,
 "nbformat_minor": 2
}
