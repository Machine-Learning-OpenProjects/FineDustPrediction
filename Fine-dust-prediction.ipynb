{
 "cells": [
  {
   "cell_type": "markdown",
   "metadata": {},
   "source": [
    "# Fine dust prediction (하루 평균 미세 먼지 수치 예측)\n",
    "Training convolutional recurrent network to predict fine-dust.\n",
    "\n",
    "pm10 단위의 하루 평균 미세 먼지 수치를 예측하기 위해 CRNN 을 훈련시킵니다."
   ]
  },
  {
   "cell_type": "code",
   "execution_count": 1,
   "metadata": {
    "collapsed": true,
    "deletable": true,
    "editable": true
   },
   "outputs": [],
   "source": [
    "import tensorflow as tf\n",
    "import numpy as np\n",
    "import matplotlib.pyplot as plt\n",
    "%matplotlib inline"
   ]
  },
  {
   "cell_type": "code",
   "execution_count": 2,
   "metadata": {
    "collapsed": true,
    "deletable": true,
    "editable": true
   },
   "outputs": [],
   "source": [
    "LOCATION_CNT = 39\n",
    "BOROUGH_CNT = 25\n",
    "WEEKLY_BATCH = 7\n",
    "\n",
    "TEST_SIZE = 15\n",
    "TRAIN_SIZE = 240\n",
    "BATCH_SIZE = 40\n",
    "\n",
    "TRAIN_ITER = 200\n",
    "BATCH_ITER = TRAIN_SIZE // BATCH_SIZE"
   ]
  },
  {
   "cell_type": "markdown",
   "metadata": {},
   "source": [
    "## Pre-processing data\n",
    "Pre-processing the daily average amount of the fine dust(pm10) to bundle it in 7 days.\n",
    "\n",
    "For the convolution layer, the amount of fine dust for each region is mapped to the geographical map of Seoul. \n",
    "\n",
    "The data was extracted from the csv file [Seoul Daily Average Air Pollution Degree Information](http://data.seoul.go.kr/openinf/sheetview.jsp?infId=OA-2218&tMenu=11) provided by the Seoul Open Data Plaza.\n",
    "\n",
    "하루 평균 미세 먼지 수치를 7일 단위로 전처리 합니다.\n",
    "\n",
    "convolution layer를 위해, 지역별 미세 먼지 수치는 실제 서울시 지도에 대응됩니다. (seoul_map)\n",
    "\n",
    "데이터는 서울 열린 데이터 광장에서 제공하는 [서울시 일별 평균 대기 오염도 정보](http://data.seoul.go.kr/openinf/sheetview.jsp?infId=OA-2218&tMenu=11) csv 파일에서 추출하였습니다. "
   ]
  },
  {
   "cell_type": "code",
   "execution_count": 3,
   "metadata": {
    "collapsed": true,
    "deletable": true,
    "editable": true
   },
   "outputs": [],
   "source": [
    "csv_name = 'MonthlyAverageAirPollutionInSeoul.csv'\n",
    "\n",
    "seoul_map = [ # 9 by 8 matrix, 25 borough\n",
    "    [0, 0, 0, 0, '도봉구', '노원구', 0, 0],\n",
    "    [0, 0, 0, '강북구', '강북구', '노원구', '노원구', 0],\n",
    "    [0, '은평구', '종로구', '성북구', '성북구', '성북구', '중랑구', 0],\n",
    "    [0, '은평구', '서대문구', '종로구', '종로구', '동대문구', '중랑구', 0],\n",
    "    [0, '은평구', '서대문구', '서대문구', '중구', '성동구', '광진구', '강동구'],\n",
    "    [0, '마포구', '마포구', '마포구', '용산구', '강남구', '송파구', '강동구'],\n",
    "    ['강서구', '강서구', '영등포구', '동작구', '서초구', '강남구', '송파구', 0],\n",
    "    [0, '양천구', '영등포구', '관악구', '서초구', '강남구', '송파구', 0],\n",
    "    [0, '구로구', '금천구', '관악구', '서초구', 0, 0, 0]\n",
    "]"
   ]
  },
  {
   "cell_type": "code",
   "execution_count": 4,
   "metadata": {
    "collapsed": false,
    "deletable": true,
    "editable": true
   },
   "outputs": [],
   "source": [
    "def read_csv(name):\n",
    "    \"\"\"Read the csv file and return the amount of fine dust for each region grouped by date.\n",
    "    \n",
    "    Args:\n",
    "        name: The name of the csv file to read.\n",
    "    \n",
    "    Returns:\n",
    "        Dictionary object mapping the amount of fine dust per zone by date.\n",
    "        {'20170506': {'강남구': 50, '강동구': 60, '강서구':70}, '20170507': {'강남구': } ...}\n",
    "    \n",
    "    Raises:\n",
    "        ValueError: If the number of data per day in the csv file is not equal to LOCATION_CNT.\n",
    "        \n",
    "    \"\"\"\n",
    "    with open(name) as f:\n",
    "        raw_data = f.read().strip()\n",
    "\n",
    "    del_quote = raw_data.replace(\"\\\"\", '')\n",
    "    data = list(map(lambda x: x.split(','), del_quote.split('\\n')))[1:] # [1:] csv header\n",
    "\n",
    "    splitted = []\n",
    "\n",
    "    ptr = 0\n",
    "    for i in range(len(data) // LOCATION_CNT):\n",
    "        splitted.append(data[ptr:ptr+LOCATION_CNT])\n",
    "        ptr += LOCATION_CNT\n",
    "    \n",
    "    ## test case\n",
    "    for date_list in splitted:\n",
    "        date = date_list[0][0] # index 0:date\n",
    "        for local in date_list:\n",
    "            if date != local[0]:\n",
    "                raise ValueError(date + ' is not same as ' + 'local[0]')\n",
    "    \n",
    "    def filter_borough(dic):\n",
    "        return dict(filter(lambda t: '구' in t[0], dic.items())) #filter not road name only borough \n",
    "\n",
    "    # index 0:date, 1:local name, 6:pms\n",
    "    pms = dict(map(lambda x: (x[0][0], dict(map(lambda t: (t[1], t[6]), x))), splitted))\n",
    "    pms_filtered = dict(filter(lambda x: '' not in x[1].values(), pms.items())) # csv data contains spaces\n",
    "    pms_filtered2 = dict(map(lambda x: (x[0], filter_borough(x[1])), pms_filtered.items()))\n",
    "    \n",
    "    return pms_filtered2"
   ]
  },
  {
   "cell_type": "code",
   "execution_count": 5,
   "metadata": {
    "collapsed": false,
    "deletable": true,
    "editable": true
   },
   "outputs": [],
   "source": [
    "def geographical_mapping(pms_data):\n",
    "    \"\"\"Map the amount of fine dust for each region to geographical map of Seoul.\n",
    "    \n",
    "    Args:\n",
    "        pms_data: Fine dust data pre-processed by read_csv.\n",
    "            Dictionary obejct mapping the amount of fine dust per area by date.\n",
    "            {'20170506': {'강남구': 50, '강동구': 60, '강서구':70}, '20170507': {'강남구': } ...}\n",
    "    \n",
    "    Returns:\n",
    "        dict that map the amount of fine dust to the geographical map of Seoul.\n",
    "        {'20170506': [[0, 0, 0, 0, 50, 60, 0, 0], [0, 0, 0, 40, ...]]}\n",
    "      \n",
    "    \"\"\"\n",
    "    def dict2seoul(p):\n",
    "        return list(map(lambda t: list(map(lambda x: int(p[x]) if x != 0 else 0, t)), seoul_map))\n",
    "\n",
    "    # map dict to seoul geographic map\n",
    "    pms_mapped = dict(map(lambda p: (p[0], dict2seoul(p[1])), pms_data.items())) \n",
    "    return pms_mapped"
   ]
  },
  {
   "cell_type": "code",
   "execution_count": 6,
   "metadata": {
    "collapsed": true,
    "deletable": true,
    "editable": true
   },
   "outputs": [],
   "source": [
    "def generate_dataset(data):\n",
    "    \"\"\" Generate the daily average amount of the fine dust(pm10) bundled in 7 days.\n",
    "    \n",
    "    Args:\n",
    "        data: Fine dust data pre-processed by read_csv\n",
    "            Dictionary object mapping the amount of fine dust per area by date.\n",
    "            {'20170506': {'강남구': 50, '강동구': 60, '강서구':70}, '20170507': {'강남구': } ...}\n",
    "    \n",
    "    Returns:\n",
    "        pms_sampled: the amount of fine dust bundled in 7 days.\n",
    "        pms_result: the amount of fine dust on the next day.\n",
    "        \n",
    "    \"\"\"\n",
    "    pms_mapped = geographical_mapping(data)\n",
    "    \n",
    "    # tie data to WEEKLY_BATCH(7) batches\n",
    "    pms_data = list(map(lambda x: x[1], sorted(pms_mapped.items()))) \n",
    "    pms_sampled = list(map(lambda i: pms_data[i:i+WEEKLY_BATCH], range(len(pms_data) - WEEKLY_BATCH - 1)))\n",
    "    \n",
    "    pms_result = list(map(lambda x: list(map(lambda t: t[1], sorted(x[1].items()))), sorted(data.items())))\n",
    "    pms_result = pms_result[WEEKLY_BATCH+1:]\n",
    "    \n",
    "    return pms_sampled, pms_result"
   ]
  },
  {
   "cell_type": "code",
   "execution_count": 7,
   "metadata": {
    "collapsed": false,
    "deletable": true,
    "editable": true
   },
   "outputs": [],
   "source": [
    "pms_data = read_csv(csv_name)\n",
    "pms_sampled, pms_result = generate_dataset(pms_data)"
   ]
  },
  {
   "cell_type": "code",
   "execution_count": 8,
   "metadata": {
    "collapsed": false,
    "deletable": true,
    "editable": true
   },
   "outputs": [],
   "source": [
    "test_sampled = pms_sampled[-TEST_SIZE:]\n",
    "test_result = pms_result[-TEST_SIZE:]\n",
    "\n",
    "data_set = list(zip(pms_sampled[:-TEST_SIZE], pms_result[:-TEST_SIZE]))\n",
    "np.random.shuffle(data_set)\n",
    "\n",
    "train_set, cv_set = data_set[:TRAIN_SIZE], data_set[TRAIN_SIZE:]\n",
    "\n",
    "train_sampled = list(map(lambda x: x[0], train_set))\n",
    "train_result = list(map(lambda x: x[1], train_set))\n",
    "\n",
    "cv_sampled = list(map(lambda x: x[0], cv_set))\n",
    "cv_result = list(map(lambda x: x[1], cv_set))"
   ]
  },
  {
   "cell_type": "markdown",
   "metadata": {},
   "source": [
    "## Generate Model\n",
    "Generate convolutional recurrent networks to predict fine-dust.\n",
    "\n",
    "Convolution each layer separately with 3x3 sized, 1x16, 16x32, 32x64 filter.\n",
    "\n",
    "Flatten each layer and pass it to the recurrent unit, 2048 hidden units.\n",
    "\n",
    "Calculate estimates via three fully connected layer (2048, 512, 25).\n",
    "\n",
    "Optimize it with square mean error, RMSPropOptimizer."
   ]
  },
  {
   "cell_type": "markdown",
   "metadata": {},
   "source": [
    "<img src=\"https://github.com/revsic/Fine-Dust-Prediction/raw/master/network_model.png\" width=\"60%\" align=\"left\">"
   ]
  },
  {
   "cell_type": "code",
   "execution_count": 9,
   "metadata": {
    "collapsed": false
   },
   "outputs": [],
   "source": [
    "def lrelu(layer):\n",
    "    \"\"\"Implementation of leaky relu, leak 0.2.\n",
    "    \n",
    "    Args:\n",
    "        layer: tensor which lrelu will be applied.\n",
    "        \n",
    "    Returns:\n",
    "        Tensor which lrelu is applied.\n",
    "    \n",
    "    \"\"\"\n",
    "    return tf.maximum(0.2*layer, layer)\n",
    "\n",
    "\n",
    "def batch_norm(x, name='batch_norm'):\n",
    "    \"\"\"Alias of tf.contrib.layers.batch_norm.\n",
    "    \n",
    "    Args:\n",
    "        x: tensor which batch normalization will be applied.\n",
    "        \n",
    "    Returns:\n",
    "        Tensor which batch normalization is applied.\n",
    "    \n",
    "    \"\"\"\n",
    "    return tf.contrib.layers.batch_norm(x,\n",
    "                                        decay=0.9, \n",
    "                                        updates_collections=None,\n",
    "                                        epsilon=1e-5,\n",
    "                                        scale=True,\n",
    "                                        is_training=True,\n",
    "                                        scope=name)"
   ]
  },
  {
   "cell_type": "code",
   "execution_count": 10,
   "metadata": {
    "collapsed": false,
    "deletable": true,
    "editable": true
   },
   "outputs": [],
   "source": [
    "X = tf.placeholder(tf.float32, [None, WEEKLY_BATCH, 9, 8]) # matrix size [9, 8]\n",
    "Y = tf.placeholder(tf.float32, [None, BOROUGH_CNT])\n",
    "\n",
    "Xt = tf.transpose(X, [1, 0, 2, 3])"
   ]
  },
  {
   "cell_type": "code",
   "execution_count": 11,
   "metadata": {
    "collapsed": false,
    "deletable": true,
    "editable": true
   },
   "outputs": [],
   "source": [
    "reused = False\n",
    "\n",
    "def layer2conv(layer):\n",
    "    \"\"\"Convolution and flatten layer with 3x3 sized 1x16, 16x32, 32x64 conv2d filter.\n",
    "    \n",
    "    To use the same filter but convolute the layers seperately, `layer2conv` use variable_scope.\n",
    "    It use `reused` as False only one time, then set True after all.\n",
    "    The same filter will applied to all layer, but we can convolute it seperately.\n",
    "    \n",
    "    Args:\n",
    "        layer: Tensor shaped [-1, 9, 8] which Conv2D will be applied.\n",
    "    \n",
    "    Returns:\n",
    "        Tensor shaped [-1, 9*8*64] which convolution filter[1x16, 16x32, 32x64] is applied.\n",
    "    \n",
    "    \"\"\"\n",
    "    \n",
    "    global reused\n",
    "    \n",
    "    with tf.variable_scope('conv_layer', reuse=reused):\n",
    "        w1 = tf.get_variable('w1', [3, 3, 1, 16],\n",
    "                            initializer=tf.truncated_normal_initializer(stddev=0.02))\n",
    "        w2 = tf.get_variable('w2', [3, 3, 16, 32],\n",
    "                            initializer=tf.truncated_normal_initializer(stddev=0.02))\n",
    "        w3 = tf.get_variable('w3', [3, 3, 32, 64],\n",
    "                            initializer=tf.truncated_normal_initializer(stddev=0.02))\n",
    "        \n",
    "        layerT = tf.reshape(layer, [-1, 9, 8, 1])\n",
    "        \n",
    "        l1 = tf.nn.conv2d(layerT, w1, strides=[1, 1, 1, 1], padding='SAME')\n",
    "        l1 = lrelu(batch_norm(l1, name='l1_norm'))\n",
    "        \n",
    "        l2 = tf.nn.conv2d(l1, w2, strides=[1, 1, 1, 1], padding='SAME')\n",
    "        l2 = lrelu(batch_norm(l2, name='l2_norm'))\n",
    "        \n",
    "        l3 = tf.nn.conv2d(l2, w3, strides=[1, 1, 1, 1], padding='SAME')\n",
    "        l3 = lrelu(batch_norm(l3, name='l3_norm'))\n",
    "        \n",
    "        l3_reshaped = tf.reshape(l3, [-1, 9 * 8 * 64]) # flatten conv layer\n",
    "    \n",
    "    reused = True\n",
    "    return l3_reshaped\n",
    "\n",
    "conv = [layer2conv(Xt[i]) for i in range(WEEKLY_BATCH)]\n",
    "convT = tf.transpose(conv, [1, 0, 2])"
   ]
  },
  {
   "cell_type": "code",
   "execution_count": 12,
   "metadata": {
    "collapsed": false,
    "deletable": true,
    "editable": true
   },
   "outputs": [],
   "source": [
    "lstm_cell = tf.contrib.rnn.LSTMCell(2048)\n",
    "out, state = tf.nn.dynamic_rnn(lstm_cell, convT, dtype=tf.float32)\n",
    "\n",
    "l4 = tf.transpose(out, [1, 0, 2])[-1]\n",
    "l4 = batch_norm(l4, name='l4_norm')"
   ]
  },
  {
   "cell_type": "code",
   "execution_count": 13,
   "metadata": {
    "collapsed": false,
    "deletable": true,
    "editable": true
   },
   "outputs": [],
   "source": [
    "w4 = tf.get_variable('w4', shape=[2048, 1024],\n",
    "                    initializer=tf.truncated_normal_initializer(stddev=0.02))\n",
    "w5 = tf.get_variable('w5', shape=[1024, 512],\n",
    "                    initializer=tf.truncated_normal_initializer(stddev=0.02))\n",
    "w6 = tf.get_variable('w6', shape=[512, BOROUGH_CNT],\n",
    "                    initializer=tf.truncated_normal_initializer(stddev=0.02))\n",
    "\n",
    "l5 = batch_norm(tf.matmul(l4, w4),  name='l5_norm')\n",
    "l5 = lrelu(l5)\n",
    "\n",
    "l6 = batch_norm(tf.matmul(l5, w5), name='l6_norm')\n",
    "l6 = lrelu(l6)\n",
    "\n",
    "l7 = batch_norm(tf.matmul(l6, w6), name='l7_norm')\n",
    "l7 = tf.nn.relu(l7)\n",
    "\n",
    "pred = l7\n",
    "\n",
    "loss = tf.reduce_mean(tf.square(Y - pred))\n",
    "opt = tf.train.RMSPropOptimizer(0.1).minimize(loss)"
   ]
  },
  {
   "cell_type": "markdown",
   "metadata": {},
   "source": [
    "## Training\n",
    "\n",
    "Train CRNN Networks with batch size 40, train iter 200.\n",
    "\n",
    "Record training and cross validation errors during training.\n",
    "\n",
    "CRNN 네트워크를 학습시킵니다. batch 크기는 40개, 반복 횟수는 200번입니다.\n",
    "\n",
    "훈련 과정에서 training error 와 cross validation error 을 계산, 기록합니다."
   ]
  },
  {
   "cell_type": "code",
   "execution_count": 14,
   "metadata": {
    "collapsed": false,
    "deletable": true,
    "editable": true
   },
   "outputs": [],
   "source": [
    "sess = tf.Session()\n",
    "sess.run(tf.global_variables_initializer())"
   ]
  },
  {
   "cell_type": "code",
   "execution_count": 15,
   "metadata": {
    "collapsed": false,
    "deletable": true,
    "editable": true,
    "scrolled": false
   },
   "outputs": [
    {
     "name": "stdout",
     "output_type": "stream",
     "text": [
      "0.0 2288.19\n",
      "0.1 1193.11\n",
      "0.2 609.496\n",
      "0.3 1266.76\n",
      "0.4 344.85\n",
      "0.5 468.753\n",
      "0.6 506.217\n",
      "0.7 447.375\n",
      "0.8 354.178\n",
      "0.9 336.421\n",
      "1.0 277.538\n"
     ]
    }
   ],
   "source": [
    "train_loss = []\n",
    "cv_loss = []\n",
    "\n",
    "for i in range(TRAIN_ITER + 1):\n",
    "    ptr = 0\n",
    "    for _ in range(BATCH_ITER):\n",
    "        _, trainloss = sess.run([opt, loss], feed_dict={X: train_sampled[ptr:ptr+BATCH_SIZE], \n",
    "                                                       Y: train_result[ptr:ptr+BATCH_SIZE]})\n",
    "        \n",
    "        cvloss = sess.run(loss, feed_dict={X: cv_sampled, Y: cv_result})\n",
    "        \n",
    "        ptr += BATCH_SIZE\n",
    "\n",
    "    train_loss.append(trainloss)\n",
    "    cv_loss.append(cvloss)\n",
    "    \n",
    "    if i % (TRAIN_ITER // 10) == 0:\n",
    "        print(i/TRAIN_ITER, cvloss)"
   ]
  },
  {
   "cell_type": "markdown",
   "metadata": {},
   "source": [
    "## Visualization\n",
    "\n",
    "Visualize loss graph and actual value and estimates for the test set.\n",
    "\n",
    "loss graph 와 test set 에 대한 실제 값과 평가치를 시각화합니다."
   ]
  },
  {
   "cell_type": "code",
   "execution_count": 16,
   "metadata": {
    "collapsed": false,
    "deletable": true,
    "editable": true
   },
   "outputs": [
    {
     "data": {
      "text/plain": [
       "<matplotlib.legend.Legend at 0x7f61e01e2978>"
      ]
     },
     "execution_count": 16,
     "metadata": {},
     "output_type": "execute_result"
    },
    {
     "data": {
      "image/png": "[encoded data removed]",
      "text/plain": [
       "<matplotlib.figure.Figure at 0x7f61ed075208>"
      ]
     },
     "metadata": {},
     "output_type": "display_data"
    }
   ],
   "source": [
    "plt.plot(train_loss, label='train')\n",
    "plt.plot(cv_loss, label='cross val')\n",
    "plt.legend()"
   ]
  },
  {
   "cell_type": "code",
   "execution_count": 17,
   "metadata": {
    "collapsed": false
   },
   "outputs": [
    {
     "data": {
      "text/plain": [
       "<matplotlib.legend.Legend at 0x7f61e011ef98>"
      ]
     },
     "execution_count": 17,
     "metadata": {},
     "output_type": "execute_result"
    },
    {
     "data": {
      "image/png": "[encoded data removed]",
      "text/plain": [
       "<matplotlib.figure.Figure at 0x7f61ed122d30>"
      ]
     },
     "metadata": {},
     "output_type": "display_data"
    }
   ],
   "source": [
    "predict = sess.run(pred, feed_dict={X: test_sampled})\n",
    "pred_gangnam = list(map(lambda x: x[0], predict))\n",
    "real_gangnam = list(map(lambda x: x[0], test_result))\n",
    "\n",
    "plt.plot(pred_gangnam, label='predict')\n",
    "plt.plot(real_gangnam, label='real')\n",
    "plt.legend()"
   ]
  },
  {
   "cell_type": "code",
   "execution_count": 18,
   "metadata": {
    "collapsed": false,
    "deletable": true,
    "editable": true
   },
   "outputs": [],
   "source": [
    "sess.close()"
   ]
  },
  {
   "cell_type": "markdown",
   "metadata": {},
   "source": [
    "## Conclusion\n",
    "\n",
    "Unfortunately, learning did not work out better than I thought.\n",
    "\n",
    "In addition to the fine-dust, the accuracy can be improved by adding wind direction or date information.\n",
    "\n",
    "안타깝게도, 학습이 생각보다 잘 이루어지지 않았습니다.\n",
    "\n",
    "하루 평균 미세 먼지 양 이외에도 풍향이나 날짜 정보를 추가하여 정확도를 높일 수 있을 것으로 보입니다."
   ]
  }
 ],
 "metadata": {
  "kernelspec": {
   "display_name": "Python 3",
   "language": "python",
   "name": "python3"
  },
  "language_info": {
   "codemirror_mode": {
    "name": "ipython",
    "version": 3
   },
   "file_extension": ".py",
   "mimetype": "text/x-python",
   "name": "python",
   "nbconvert_exporter": "python",
   "pygments_lexer": "ipython3",
   "version": "3.6.0"
  }
 },
 "nbformat": 4,
 "nbformat_minor": 2
}
