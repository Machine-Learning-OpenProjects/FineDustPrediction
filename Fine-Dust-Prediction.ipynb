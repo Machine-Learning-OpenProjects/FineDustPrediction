{
 "cells": [
  {
   "cell_type": "markdown",
   "metadata": {
    "deletable": true,
    "editable": true
   },
   "source": [
    "# Fine dust prediction (하루 평균 미세 먼지 수치 예측)\n",
    "Training Convolutional LSTM network to predict fine-dust.\n",
    "\n",
    "pm10 단위의 하루 평균 미세 먼지 수치를 예측하기 위해 ConvLSTM 을 훈련시킵니다."
   ]
  },
  {
   "cell_type": "code",
   "execution_count": 1,
   "metadata": {
    "collapsed": false,
    "deletable": true,
    "editable": true
   },
   "outputs": [],
   "source": [
    "import tensorflow as tf\n",
    "import numpy as np\n",
    "import matplotlib.pyplot as plt\n",
    "%matplotlib inline"
   ]
  },
  {
   "cell_type": "code",
   "execution_count": 2,
   "metadata": {
    "collapsed": true,
    "deletable": true,
    "editable": true
   },
   "outputs": [],
   "source": [
    "LOCATION_CNT = 39\n",
    "BOROUGH_CNT = 25\n",
    "WEEKLY_BATCH = 7\n",
    "\n",
    "TEST_SIZE = 40\n",
    "TRAIN_SIZE = 240\n",
    "BATCH_SIZE = 40\n",
    "\n",
    "TRAIN_ITER = 100\n",
    "BATCH_ITER = TRAIN_SIZE // BATCH_SIZE"
   ]
  },
  {
   "cell_type": "markdown",
   "metadata": {
    "deletable": true,
    "editable": true
   },
   "source": [
    "## Pre-processing data\n",
    "Pre-processing the daily average amount of the fine dust(pm10) to bundle it in 7 days.\n",
    "\n",
    "For the convolution layer, the amount of fine dust for each region is mapped to the geographical map of Seoul (seoul_map). \n",
    "\n",
    "The data was extracted from the csv file [Seoul Daily Average Air Pollution Degree Information](http://data.seoul.go.kr/openinf/sheetview.jsp?infId=OA-2218&tMenu=11) provided by the Seoul Open Data Plaza.\n",
    "\n",
    "하루 평균 미세 먼지 수치를 7일 단위로 전처리 합니다.\n",
    "\n",
    "convolution layer를 위해, 지역별 미세 먼지 수치는 실제 서울시 지도에 대응됩니다 (seoul_map).\n",
    "\n",
    "데이터는 서울 열린 데이터 광장에서 제공하는 [서울시 일별 평균 대기 오염도 정보](http://data.seoul.go.kr/openinf/sheetview.jsp?infId=OA-2218&tMenu=11) csv 파일에서 추출하였습니다. "
   ]
  },
  {
   "cell_type": "code",
   "execution_count": 3,
   "metadata": {
    "collapsed": true,
    "deletable": true,
    "editable": true
   },
   "outputs": [],
   "source": [
    "csv_name = 'MonthlyAverageAirPollutionInSeoul.csv'\n",
    "\n",
    "seoul_map = [ # 9 by 8 matrix, 25 borough\n",
    "    [0, 0, 0, 0, '도봉구', '노원구', 0, 0],\n",
    "    [0, 0, 0, '강북구', '강북구', '노원구', '노원구', 0],\n",
    "    [0, '은평구', '종로구', '성북구', '성북구', '성북구', '중랑구', 0],\n",
    "    [0, '은평구', '서대문구', '종로구', '종로구', '동대문구', '중랑구', 0],\n",
    "    [0, '은평구', '서대문구', '서대문구', '중구', '성동구', '광진구', '강동구'],\n",
    "    [0, '마포구', '마포구', '마포구', '용산구', '강남구', '송파구', '강동구'],\n",
    "    ['강서구', '강서구', '영등포구', '동작구', '서초구', '강남구', '송파구', 0],\n",
    "    [0, '양천구', '영등포구', '관악구', '서초구', '강남구', '송파구', 0],\n",
    "    [0, '구로구', '금천구', '관악구', '서초구', 0, 0, 0]\n",
    "]"
   ]
  },
  {
   "cell_type": "code",
   "execution_count": 4,
   "metadata": {
    "collapsed": false,
    "deletable": true,
    "editable": true
   },
   "outputs": [],
   "source": [
    "def read_csv(name):\n",
    "    \"\"\"Read the csv file and return the amount of fine dust for each region grouped by date.\n",
    "    \n",
    "    Args:\n",
    "        name: The name of the csv file to read.\n",
    "    \n",
    "    Returns:\n",
    "        Dictionary object mapping the amount of fine dust for each region by date.\n",
    "        {'20170506': {'강남구': 50, '강동구': 60, '강서구':70}, '20170507': {'강남구': } ...}\n",
    "    \n",
    "    Raises:\n",
    "        ValueError: If the number of the data per day in the csv file is not equal to LOCATION_CNT.\n",
    "        \n",
    "    \"\"\"\n",
    "    with open(name) as f:\n",
    "        raw_data = f.read().strip()\n",
    "\n",
    "    del_quote = raw_data.replace(\"\\\"\", '')\n",
    "    data = list(map(lambda x: x.split(','), del_quote.split('\\n')))[1:] # [1:] csv header\n",
    "\n",
    "    splitted = []\n",
    "\n",
    "    ptr = 0\n",
    "    for i in range(len(data) // LOCATION_CNT):\n",
    "        splitted.append(data[ptr:ptr+LOCATION_CNT])\n",
    "        ptr += LOCATION_CNT\n",
    "    \n",
    "    ## test case\n",
    "    for date_list in splitted:\n",
    "        date = date_list[0][0] # index 0:date\n",
    "        for local in date_list:\n",
    "            if date != local[0]:\n",
    "                raise ValueError(date + ' is not same as ' + 'local[0]')\n",
    "    \n",
    "    def filter_borough(dic):\n",
    "        return dict(filter(lambda t: '구' in t[0], dic.items())) #filter not road name only borough \n",
    "\n",
    "    # index 0:date, 1:local name, 6:pms\n",
    "    pms = dict(map(lambda x: (x[0][0], dict(map(lambda t: (t[1], t[6]), x))), splitted))\n",
    "    pms_filtered = dict(filter(lambda x: '' not in x[1].values(), pms.items())) # csv data contains spaces\n",
    "    pms_filtered2 = dict(map(lambda x: (x[0], filter_borough(x[1])), pms_filtered.items()))\n",
    "    \n",
    "    return pms_filtered2"
   ]
  },
  {
   "cell_type": "code",
   "execution_count": 5,
   "metadata": {
    "collapsed": false,
    "deletable": true,
    "editable": true
   },
   "outputs": [],
   "source": [
    "def geographical_mapping(pms_data):\n",
    "    \"\"\"Map the amount of fine dust for each region to geographical map of Seoul.\n",
    "    \n",
    "    Args:\n",
    "        pms_data: Fine dust data pre-processed by read_csv.\n",
    "            Dictionary obejct mapping the amount of fine dust for each region by date.\n",
    "            {'20170506': {'강남구': 50, '강동구': 60, '강서구':70}, '20170507': {'강남구': } ...}\n",
    "    \n",
    "    Returns:\n",
    "        Dictionary that map the amount of fine dust to the geographical map of Seoul.\n",
    "        {'20170506': [[0, 0, 0, 0, 50, 60, 0, 0], [0, 0, 0, 40, ...]]}\n",
    "      \n",
    "    \"\"\"\n",
    "    def dict2seoul(p):\n",
    "        return list(map(lambda t: list(map(lambda x: int(p[x]) if x != 0 else 0, t)), seoul_map))\n",
    "\n",
    "    # map dict to seoul geographic map\n",
    "    pms_mapped = dict(map(lambda p: (p[0], dict2seoul(p[1])), pms_data.items())) \n",
    "    return pms_mapped"
   ]
  },
  {
   "cell_type": "code",
   "execution_count": 6,
   "metadata": {
    "collapsed": true,
    "deletable": true,
    "editable": true
   },
   "outputs": [],
   "source": [
    "def generate_dataset(data):\n",
    "    \"\"\" Generate the daily average amount of the fine dust(pm10) bundled in 7 days.\n",
    "    \n",
    "    Args:\n",
    "        data: Fine dust data pre-processed by read_csv\n",
    "            Dictionary object mapping the amount of fine dust for each region by date.\n",
    "            {'20170506': {'강남구': 50, '강동구': 60, '강서구':70}, '20170507': {'강남구': } ...}\n",
    "    \n",
    "    Returns:\n",
    "        pms_sampled: the amount of fine dust bundled in 7 days.\n",
    "        pms_result: the amount of fine dust on the next day.\n",
    "        \n",
    "    \"\"\"\n",
    "    pms_mapped = geographical_mapping(data)\n",
    "    \n",
    "    # tie data to WEEKLY_BATCH(7) batches\n",
    "    pms_data = list(map(lambda x: x[1], sorted(pms_mapped.items()))) \n",
    "    pms_sampled = list(map(lambda i: pms_data[i:i+WEEKLY_BATCH], range(len(pms_data) - WEEKLY_BATCH - 1)))\n",
    "    pms_result = pms_data[WEEKLY_BATCH:]\n",
    "    \n",
    "    return pms_sampled, pms_result"
   ]
  },
  {
   "cell_type": "code",
   "execution_count": 7,
   "metadata": {
    "collapsed": false,
    "deletable": true,
    "editable": true
   },
   "outputs": [],
   "source": [
    "pms_data = read_csv(csv_name)\n",
    "pms_sampled, pms_result = generate_dataset(pms_data)"
   ]
  },
  {
   "cell_type": "code",
   "execution_count": 8,
   "metadata": {
    "collapsed": false,
    "deletable": true,
    "editable": true
   },
   "outputs": [],
   "source": [
    "test_sampled = pms_sampled[-TEST_SIZE:]\n",
    "test_result = pms_result[-TEST_SIZE:]\n",
    "\n",
    "train_set = list(zip(pms_sampled[:TRAIN_SIZE], pms_result[:TRAIN_SIZE]))\n",
    "np.random.shuffle(train_set)\n",
    "\n",
    "train_sampled = list(map(lambda x: x[0], train_set))\n",
    "train_result = list(map(lambda x: x[1], train_set))"
   ]
  },
  {
   "cell_type": "markdown",
   "metadata": {
    "deletable": true,
    "editable": true
   },
   "source": [
    "## Generate Model\n",
    "Generate ConvLSTM Networks to predict fine-dust. The original paper is [Convolutional LSTM](https://arxiv.org/abs/1506.04214).\n",
    "\n",
    "미세 먼지 예측이 이용할 ConvLSTM 네트워크를 구축합니다. ConvLSTM 네트워크는 [Convlutional LSTM](https://arxiv.org/abs/1506.04214) 논문을 참고하였습니다."
   ]
  },
  {
   "cell_type": "code",
   "execution_count": 9,
   "metadata": {
    "collapsed": false,
    "deletable": true,
    "editable": true
   },
   "outputs": [],
   "source": [
    "X = tf.placeholder(tf.float32, [None, WEEKLY_BATCH, 9, 8]) # matrix size [9, 8]\n",
    "Y = tf.placeholder(tf.float32, [None, 9, 8])\n",
    "\n",
    "Xr = tf.reshape(X, [-1, WEEKLY_BATCH, 9, 8, 1])\n",
    "Xt = tf.transpose(Xr, [1, 0, 2, 3, 4])"
   ]
  },
  {
   "cell_type": "code",
   "execution_count": 10,
   "metadata": {
    "collapsed": false,
    "deletable": true,
    "editable": true
   },
   "outputs": [],
   "source": [
    "class ConvLSTMCell(tf.contrib.rnn.RNNCell):\n",
    "    \"\"\" Convolutional LSTM Model. \n",
    "    Similar as LSTM Cell, but it calculate hidden states with convolution.\n",
    "        \n",
    "    Attributes:\n",
    "        shape (tf.TensorShape): tensor shape of the output value\n",
    "        kernel (list): kernel shape [f_h, f_w]\n",
    "        depth (int): depth of the output\n",
    "        name (str): name of the variable scope\n",
    "    \"\"\"\n",
    "    def __init__(self, shape, kernel, depth, name='ConvLSTM_'):\n",
    "        \"\"\" Convolutional LSTM initializer. It creates some tensorflow variables.\n",
    "        \n",
    "        Args:\n",
    "            shape (tf.TensorShape): tensor shape of the output value\n",
    "            kernel (list): kernel shape [f_h, f_w]\n",
    "            depth (int): depth of the output\n",
    "            name (str): name of the variable scope\n",
    "        \"\"\"\n",
    "        self._shape = tf.TensorShape(shape + [depth])\n",
    "        self._kernel = kernel\n",
    "        self._depth = depth\n",
    "        self._name = name\n",
    "        \n",
    "    @property\n",
    "    def state_size(self):\n",
    "        return tf.contrib.rnn.LSTMStateTuple(self._shape, self._shape)\n",
    "        \n",
    "    @property\n",
    "    def output_size(self):\n",
    "        return self._shape\n",
    "        \n",
    "    def __call__(self, x, state):\n",
    "        \"\"\" Feed input tensor to the ConvLSTM and return hidden units and cells.\n",
    "        \n",
    "        Args:\n",
    "            x (tf.Tensor): Input value of the ConvLSTM. 5D tensor\n",
    "                [input dim, batch size, width, height, channel]\n",
    "        \n",
    "        Returns:\n",
    "            h (tf.Tensor): hidden units of the ConvLSTM\n",
    "            state (LSTMStateTuple): states of the ConvLSTM [cell, hidden]\n",
    "        \"\"\"\n",
    "        with tf.variable_scope(self._name):\n",
    "            c_prev, h_prev = state\n",
    "            \n",
    "            x = tf.concat([x, h_prev], axis=3)\n",
    "            in_dim = x.shape[-1].value\n",
    "            h_dim = 4 * self._depth\n",
    "            \n",
    "            w = tf.get_variable('w', self._kernel + [in_dim, h_dim],\n",
    "                               initializer=tf.random_normal_initializer(stddev=0.02))\n",
    "            conv = tf.nn.conv2d(x, w, strides=[1, 1, 1, 1], padding='SAME')\n",
    "            hi, hf, hc, ho = tf.split(conv, 4, axis=3)\n",
    "            \n",
    "            hi = tf.nn.sigmoid(hi)\n",
    "            hf = tf.nn.sigmoid(hf)\n",
    "            ho = tf.nn.sigmoid(ho)\n",
    "            hc = tf.nn.tanh(hc)\n",
    "            \n",
    "            c = c_prev * hf + hc * hi\n",
    "            h = ho * tf.nn.tanh(c)\n",
    "            \n",
    "            state = tf.contrib.rnn.LSTMStateTuple(c, h)\n",
    "            \n",
    "            return h, state"
   ]
  },
  {
   "cell_type": "code",
   "execution_count": 11,
   "metadata": {
    "collapsed": false,
    "deletable": true,
    "editable": true
   },
   "outputs": [],
   "source": [
    "encoder1 = ConvLSTMCell([9, 8], [5, 5], 128, name='encoder1')\n",
    "encoder2 = ConvLSTMCell([9, 8], [5, 5], 64, name='encoder2')\n",
    "encoder3 = ConvLSTMCell([9, 8], [5, 5], 64, name='encoder3')\n",
    "\n",
    "h1, state1 = tf.nn.dynamic_rnn(encoder1, Xt, dtype=tf.float32, time_major=True)\n",
    "h2, state2 = tf.nn.dynamic_rnn(encoder2, h1, dtype=tf.float32, time_major=True)\n",
    "h3, state3 = tf.nn.dynamic_rnn(encoder3, h2, dtype=tf.float32, time_major=True)\n",
    "\n",
    "hidden = tf.concat([h1[-1], h2[-1], h3[-1]], axis=3)"
   ]
  },
  {
   "cell_type": "code",
   "execution_count": 12,
   "metadata": {
    "collapsed": false,
    "deletable": true,
    "editable": true
   },
   "outputs": [],
   "source": [
    "# 1x1 convolution for flattening data\n",
    "Wf = tf.get_variable('wf', shape=[1, 1, 256, 1],\n",
    "                    initializer=tf.random_normal_initializer(stddev=0.02))\n",
    "out = tf.nn.conv2d(hidden, Wf, strides=[1, 1, 1, 1], padding='SAME')\n",
    "\n",
    "pred = tf.reshape(out, [-1, 9, 8])\n",
    "\n",
    "loss = tf.reduce_mean(tf.square(Y - pred)) # MSE loss\n",
    "opt = tf.train.RMSPropOptimizer(1e-3, 0.9).minimize(loss)"
   ]
  },
  {
   "cell_type": "markdown",
   "metadata": {
    "deletable": true,
    "editable": true
   },
   "source": [
    "## Training\n",
    "\n",
    "Train ConvLSTM Networks with batch size 40, train iter 200.\n",
    "\n",
    "Record training and cross validation errors during training.\n",
    "\n",
    "ConvLSTM 네트워크를 학습시킵니다. batch 크기는 40개, 반복 횟수는 200번입니다.\n",
    "\n",
    "훈련 과정에서 training error 와 cross validation error 을 계산, 기록합니다."
   ]
  },
  {
   "cell_type": "code",
   "execution_count": 13,
   "metadata": {
    "collapsed": false,
    "deletable": true,
    "editable": true
   },
   "outputs": [],
   "source": [
    "sess = tf.Session()\n",
    "sess.run(tf.global_variables_initializer())"
   ]
  },
  {
   "cell_type": "code",
   "execution_count": 14,
   "metadata": {
    "collapsed": false,
    "deletable": true,
    "editable": true,
    "scrolled": false
   },
   "outputs": [
    {
     "name": "stdout",
     "output_type": "stream",
     "text": [
      "0.0 2634.04\n",
      "0.1 1438.95\n",
      "0.2 873.191\n",
      "0.3 501.78\n",
      "0.4 404.776\n",
      "0.5 380.151\n",
      "0.6 355.992\n",
      "0.7 378.235\n",
      "0.8 401.75\n",
      "0.9 406.401\n",
      "1.0 426.977\n"
     ]
    }
   ],
   "source": [
    "train_loss = []\n",
    "test_loss = []\n",
    "\n",
    "for i in range(TRAIN_ITER + 1):\n",
    "    ptr = 0\n",
    "    for _ in range(BATCH_ITER):\n",
    "        _, trainloss = sess.run([opt, loss], feed_dict={X: train_sampled[ptr:ptr+BATCH_SIZE], \n",
    "                                                        Y: train_result[ptr:ptr+BATCH_SIZE]})\n",
    "        \n",
    "        testloss = sess.run(loss, feed_dict={X: test_sampled, Y: test_result})\n",
    "        \n",
    "        ptr += BATCH_SIZE\n",
    "\n",
    "    train_loss.append(trainloss)\n",
    "    test_loss.append(testloss)\n",
    "    \n",
    "    if i % (TRAIN_ITER // 10) == 0:\n",
    "        print(i/TRAIN_ITER, testloss)"
   ]
  },
  {
   "cell_type": "markdown",
   "metadata": {
    "deletable": true,
    "editable": true
   },
   "source": [
    "## Visualization\n",
    "\n",
    "Visualize loss graph and actual value and estimates for the test set.\n",
    "\n",
    "loss graph 와 test set 에 대한 실제 값과 평가치를 시각화합니다."
   ]
  },
  {
   "cell_type": "code",
   "execution_count": 15,
   "metadata": {
    "collapsed": false,
    "deletable": true,
    "editable": true
   },
   "outputs": [
    {
     "data": {
      "text/plain": [
       "<matplotlib.legend.Legend at 0x7f2fc6258978>"
      ]
     },
     "execution_count": 15,
     "metadata": {},
     "output_type": "execute_result"
    },
    {
     "data": {
      "image/png": "[encoded data removed]",
      "text/plain": [
       "<matplotlib.figure.Figure at 0x7f2fc65ff208>"
      ]
     },
     "metadata": {},
     "output_type": "display_data"
    }
   ],
   "source": [
    "plt.plot(train_loss, label='train')\n",
    "plt.plot(test_loss, label='test')\n",
    "plt.legend()"
   ]
  },
  {
   "cell_type": "code",
   "execution_count": 16,
   "metadata": {
    "collapsed": false,
    "deletable": true,
    "editable": true
   },
   "outputs": [
    {
     "data": {
      "text/plain": [
       "<matplotlib.legend.Legend at 0x7f2fc618ecf8>"
      ]
     },
     "execution_count": 16,
     "metadata": {},
     "output_type": "execute_result"
    },
    {
     "data": {
      "image/png": "[encoded data removed]",
      "text/plain": [
       "<matplotlib.figure.Figure at 0x7f2fc6246400>"
      ]
     },
     "metadata": {},
     "output_type": "display_data"
    }
   ],
   "source": [
    "predict = sess.run(pred, feed_dict={X: test_sampled})\n",
    "pred_gangnam = list(map(lambda x: x[6][5], predict[-15:]))\n",
    "real_gangnam = list(map(lambda x: x[6][5], test_result[-15:]))\n",
    "\n",
    "plt.plot(pred_gangnam, label='predict')\n",
    "plt.plot(real_gangnam, label='real')\n",
    "plt.legend()"
   ]
  },
  {
   "cell_type": "code",
   "execution_count": 17,
   "metadata": {
    "collapsed": false,
    "deletable": true,
    "editable": true
   },
   "outputs": [
    {
     "data": {
      "text/plain": [
       "<matplotlib.legend.Legend at 0x7f2fc6139f60>"
      ]
     },
     "execution_count": 17,
     "metadata": {},
     "output_type": "execute_result"
    },
    {
     "data": {
      "image/png": "[encoded data removed]",
      "text/plain": [
       "<matplotlib.figure.Figure at 0x7f2fc619c978>"
      ]
     },
     "metadata": {},
     "output_type": "display_data"
    }
   ],
   "source": [
    "pred_dongdaemun = list(map(lambda x: x[3][5], predict[-15:]))\n",
    "real_dongdaemun = list(map(lambda x: x[3][5], test_result[-15:]))\n",
    "\n",
    "plt.plot(pred_dongdaemun, label='predict')\n",
    "plt.plot(real_dongdaemun, label='real')\n",
    "plt.legend()"
   ]
  },
  {
   "cell_type": "code",
   "execution_count": 18,
   "metadata": {
    "collapsed": false,
    "deletable": true,
    "editable": true
   },
   "outputs": [],
   "source": [
    "sess.close()"
   ]
  }
 ],
 "metadata": {
  "kernelspec": {
   "display_name": "Python 3",
   "language": "python",
   "name": "python3"
  },
  "language_info": {
   "codemirror_mode": {
    "name": "ipython",
    "version": 3
   },
   "file_extension": ".py",
   "mimetype": "text/x-python",
   "name": "python",
   "nbconvert_exporter": "python",
   "pygments_lexer": "ipython3",
   "version": "3.5.2"
  }
 },
 "nbformat": 4,
 "nbformat_minor": 2
}
