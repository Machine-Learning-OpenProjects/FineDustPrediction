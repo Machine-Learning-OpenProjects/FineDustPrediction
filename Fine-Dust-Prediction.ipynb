{
 "cells": [
  {
   "cell_type": "markdown",
   "metadata": {
    "deletable": true,
    "editable": true
   },
   "source": [
    "# Fine dust prediction (하루 평균 미세 먼지 수치 예측)\n",
    "Training Convolutional LSTM network to predict fine-dust.\n",
    "\n",
    "pm10 단위의 하루 평균 미세 먼지 수치를 예측하기 위해 ConvLSTM 을 훈련시킵니다."
   ]
  },
  {
   "cell_type": "code",
   "execution_count": 1,
   "metadata": {
    "collapsed": false,
    "deletable": true,
    "editable": true
   },
   "outputs": [],
   "source": [
    "import tensorflow as tf\n",
    "import numpy as np\n",
    "import matplotlib.pyplot as plt\n",
    "%matplotlib inline"
   ]
  },
  {
   "cell_type": "code",
   "execution_count": 2,
   "metadata": {
    "collapsed": true,
    "deletable": true,
    "editable": true
   },
   "outputs": [],
   "source": [
    "LOCATION_CNT = 39\n",
    "BOROUGH_CNT = 25\n",
    "WEEKLY_BATCH = 7\n",
    "\n",
    "CV_SIZE = 27\n",
    "TEST_SIZE = 15\n",
    "TRAIN_SIZE = 240\n",
    "BATCH_SIZE = 40\n",
    "\n",
    "TRAIN_ITER = 200\n",
    "BATCH_ITER = TRAIN_SIZE // BATCH_SIZE"
   ]
  },
  {
   "cell_type": "markdown",
   "metadata": {
    "deletable": true,
    "editable": true
   },
   "source": [
    "## Pre-processing data\n",
    "Pre-processing the daily average amount of the fine dust(pm10) to bundle it in 7 days.\n",
    "\n",
    "For the convolution layer, the amount of fine dust for each region is mapped to the geographical map of Seoul (seoul_map). \n",
    "\n",
    "The data was extracted from the csv file [Seoul Daily Average Air Pollution Degree Information](http://data.seoul.go.kr/openinf/sheetview.jsp?infId=OA-2218&tMenu=11) provided by the Seoul Open Data Plaza.\n",
    "\n",
    "하루 평균 미세 먼지 수치를 7일 단위로 전처리 합니다.\n",
    "\n",
    "convolution layer를 위해, 지역별 미세 먼지 수치는 실제 서울시 지도에 대응됩니다 (seoul_map).\n",
    "\n",
    "데이터는 서울 열린 데이터 광장에서 제공하는 [서울시 일별 평균 대기 오염도 정보](http://data.seoul.go.kr/openinf/sheetview.jsp?infId=OA-2218&tMenu=11) csv 파일에서 추출하였습니다. "
   ]
  },
  {
   "cell_type": "code",
   "execution_count": 3,
   "metadata": {
    "collapsed": true,
    "deletable": true,
    "editable": true
   },
   "outputs": [],
   "source": [
    "csv_name = 'MonthlyAverageAirPollutionInSeoul.csv'\n",
    "\n",
    "seoul_map = [ # 9 by 8 matrix, 25 borough\n",
    "    [0, 0, 0, 0, '도봉구', '노원구', 0, 0],\n",
    "    [0, 0, 0, '강북구', '강북구', '노원구', '노원구', 0],\n",
    "    [0, '은평구', '종로구', '성북구', '성북구', '성북구', '중랑구', 0],\n",
    "    [0, '은평구', '서대문구', '종로구', '종로구', '동대문구', '중랑구', 0],\n",
    "    [0, '은평구', '서대문구', '서대문구', '중구', '성동구', '광진구', '강동구'],\n",
    "    [0, '마포구', '마포구', '마포구', '용산구', '강남구', '송파구', '강동구'],\n",
    "    ['강서구', '강서구', '영등포구', '동작구', '서초구', '강남구', '송파구', 0],\n",
    "    [0, '양천구', '영등포구', '관악구', '서초구', '강남구', '송파구', 0],\n",
    "    [0, '구로구', '금천구', '관악구', '서초구', 0, 0, 0]\n",
    "]"
   ]
  },
  {
   "cell_type": "code",
   "execution_count": 4,
   "metadata": {
    "collapsed": false,
    "deletable": true,
    "editable": true
   },
   "outputs": [],
   "source": [
    "def read_csv(name):\n",
    "    \"\"\"Read the csv file and return the amount of fine dust for each region grouped by date.\n",
    "    \n",
    "    Args:\n",
    "        name: The name of the csv file to read.\n",
    "    \n",
    "    Returns:\n",
    "        Dictionary object mapping the amount of fine dust for each region by date.\n",
    "        {'20170506': {'강남구': 50, '강동구': 60, '강서구':70}, '20170507': {'강남구': } ...}\n",
    "    \n",
    "    Raises:\n",
    "        ValueError: If the number of the data per day in the csv file is not equal to LOCATION_CNT.\n",
    "        \n",
    "    \"\"\"\n",
    "    with open(name) as f:\n",
    "        raw_data = f.read().strip()\n",
    "\n",
    "    del_quote = raw_data.replace(\"\\\"\", '')\n",
    "    data = list(map(lambda x: x.split(','), del_quote.split('\\n')))[1:] # [1:] csv header\n",
    "\n",
    "    splitted = []\n",
    "\n",
    "    ptr = 0\n",
    "    for i in range(len(data) // LOCATION_CNT):\n",
    "        splitted.append(data[ptr:ptr+LOCATION_CNT])\n",
    "        ptr += LOCATION_CNT\n",
    "    \n",
    "    ## test case\n",
    "    for date_list in splitted:\n",
    "        date = date_list[0][0] # index 0:date\n",
    "        for local in date_list:\n",
    "            if date != local[0]:\n",
    "                raise ValueError(date + ' is not same as ' + 'local[0]')\n",
    "    \n",
    "    def filter_borough(dic):\n",
    "        return dict(filter(lambda t: '구' in t[0], dic.items())) #filter not road name only borough \n",
    "\n",
    "    # index 0:date, 1:local name, 6:pms\n",
    "    pms = dict(map(lambda x: (x[0][0], dict(map(lambda t: (t[1], t[6]), x))), splitted))\n",
    "    pms_filtered = dict(filter(lambda x: '' not in x[1].values(), pms.items())) # csv data contains spaces\n",
    "    pms_filtered2 = dict(map(lambda x: (x[0], filter_borough(x[1])), pms_filtered.items()))\n",
    "    \n",
    "    return pms_filtered2"
   ]
  },
  {
   "cell_type": "code",
   "execution_count": 5,
   "metadata": {
    "collapsed": false,
    "deletable": true,
    "editable": true
   },
   "outputs": [],
   "source": [
    "def geographical_mapping(pms_data):\n",
    "    \"\"\"Map the amount of fine dust for each region to geographical map of Seoul.\n",
    "    \n",
    "    Args:\n",
    "        pms_data: Fine dust data pre-processed by read_csv.\n",
    "            Dictionary obejct mapping the amount of fine dust for each region by date.\n",
    "            {'20170506': {'강남구': 50, '강동구': 60, '강서구':70}, '20170507': {'강남구': } ...}\n",
    "    \n",
    "    Returns:\n",
    "        Dictionary that map the amount of fine dust to the geographical map of Seoul.\n",
    "        {'20170506': [[0, 0, 0, 0, 50, 60, 0, 0], [0, 0, 0, 40, ...]]}\n",
    "      \n",
    "    \"\"\"\n",
    "    def dict2seoul(p):\n",
    "        return list(map(lambda t: list(map(lambda x: int(p[x]) if x != 0 else 0, t)), seoul_map))\n",
    "\n",
    "    # map dict to seoul geographic map\n",
    "    pms_mapped = dict(map(lambda p: (p[0], dict2seoul(p[1])), pms_data.items())) \n",
    "    return pms_mapped"
   ]
  },
  {
   "cell_type": "code",
   "execution_count": 6,
   "metadata": {
    "collapsed": true,
    "deletable": true,
    "editable": true
   },
   "outputs": [],
   "source": [
    "def generate_dataset(data):\n",
    "    \"\"\" Generate the daily average amount of the fine dust(pm10) bundled in 7 days.\n",
    "    \n",
    "    Args:\n",
    "        data: Fine dust data pre-processed by read_csv\n",
    "            Dictionary object mapping the amount of fine dust for each region by date.\n",
    "            {'20170506': {'강남구': 50, '강동구': 60, '강서구':70}, '20170507': {'강남구': } ...}\n",
    "    \n",
    "    Returns:\n",
    "        pms_sampled: the amount of fine dust bundled in 7 days.\n",
    "        pms_result: the amount of fine dust on the next day.\n",
    "        \n",
    "    \"\"\"\n",
    "    pms_mapped = geographical_mapping(data)\n",
    "    \n",
    "    # tie data to WEEKLY_BATCH(7) batches\n",
    "    pms_data = list(map(lambda x: x[1], sorted(pms_mapped.items()))) \n",
    "    pms_sampled = list(map(lambda i: pms_data[i:i+WEEKLY_BATCH], range(len(pms_data) - WEEKLY_BATCH - 1)))\n",
    "    pms_result = pms_data[WEEKLY_BATCH:]\n",
    "    \n",
    "    return pms_sampled, pms_result"
   ]
  },
  {
   "cell_type": "code",
   "execution_count": 7,
   "metadata": {
    "collapsed": false,
    "deletable": true,
    "editable": true
   },
   "outputs": [],
   "source": [
    "pms_data = read_csv(csv_name)\n",
    "pms_sampled, pms_result = generate_dataset(pms_data)"
   ]
  },
  {
   "cell_type": "code",
   "execution_count": 8,
   "metadata": {
    "collapsed": false,
    "deletable": true,
    "editable": true
   },
   "outputs": [],
   "source": [
    "test_sampled = pms_sampled[-TEST_SIZE:]\n",
    "test_result = pms_result[-TEST_SIZE:]\n",
    "\n",
    "data_set = list(zip(pms_sampled[:-TEST_SIZE], pms_result[:-TEST_SIZE]))\n",
    "np.random.shuffle(data_set)\n",
    "\n",
    "train_set, cv_set = data_set[:TRAIN_SIZE], data_set[TRAIN_SIZE:]\n",
    "\n",
    "train_sampled = list(map(lambda x: x[0], train_set))\n",
    "train_result = list(map(lambda x: x[1], train_set))\n",
    "\n",
    "cv_sampled = list(map(lambda x: x[0], cv_set))\n",
    "cv_result = list(map(lambda x: x[1], cv_set))"
   ]
  },
  {
   "cell_type": "markdown",
   "metadata": {
    "deletable": true,
    "editable": true
   },
   "source": [
    "## Generate Model\n",
    "Generate ConvLSTM Networks to predict fine-dust. The original paper is [Convolutional LSTM](https://arxiv.org/abs/1506.04214).\n",
    "\n",
    "미세 먼지 예측이 이용할 ConvLSTM 네트워크를 구축합니다. ConvLSTM 네트워크는 [Convlutional LSTM](https://arxiv.org/abs/1506.04214) 논문을 참고하였습니다."
   ]
  },
  {
   "cell_type": "code",
   "execution_count": 9,
   "metadata": {
    "collapsed": false,
    "deletable": true,
    "editable": true
   },
   "outputs": [],
   "source": [
    "X = tf.placeholder(tf.float32, [None, WEEKLY_BATCH, 9, 8]) # matrix size [9, 8]\n",
    "Y = tf.placeholder(tf.float32, [None, 9, 8])\n",
    "batch_size = tf.placeholder(tf.int32)\n",
    "\n",
    "Xr = tf.reshape(X, [-1, WEEKLY_BATCH, 9, 8, 1])\n",
    "Xt = tf.transpose(Xr, [1, 0, 2, 3, 4])"
   ]
  },
  {
   "cell_type": "code",
   "execution_count": 10,
   "metadata": {
    "collapsed": true,
    "deletable": true,
    "editable": true
   },
   "outputs": [],
   "source": [
    "class ConvLSTMCell(object):\n",
    "    def __init__(self, in_dim, h_dim, f_h, f_w):\n",
    "        self.in_dim = in_dim\n",
    "        self.h_dim = h_dim\n",
    "        \n",
    "        self.f_h = f_h\n",
    "        self.f_w = f_w\n",
    "        \n",
    "        with tf.variable_scope('conv_lstm'):\n",
    "            self.Wxi = tf.get_variable('wxi', [f_h, f_w, in_dim, h_dim],\n",
    "                                      initializer=tf.random_normal_initializer(stddev=0.02))\n",
    "            self.Wxf = tf.get_variable('wxf', [f_h, f_w, in_dim, h_dim],\n",
    "                                      initializer=tf.random_normal_initializer(stddev=0.02))\n",
    "            self.Wxc = tf.get_variable('wxc', [f_h, f_w, in_dim, h_dim],\n",
    "                                      initializer=tf.random_normal_initializer(stddev=0.02))\n",
    "            self.Wxo = tf.get_variable('wxo', [f_h, f_w, in_dim, h_dim],\n",
    "                                      initializer=tf.random_normal_initializer(stddev=0.02))\n",
    "            self.Whi = tf.get_variable('whi', [f_h, f_w, h_dim, h_dim],\n",
    "                                      initializer=tf.random_normal_initializer(stddev=0.02))\n",
    "            self.Whf = tf.get_variable('whf', [f_h, f_w, h_dim, h_dim],\n",
    "                                      initializer=tf.random_normal_initializer(stddev=0.02))\n",
    "            self.Whc = tf.get_variable('whc', [f_h, f_w, h_dim, h_dim],\n",
    "                                      initializer=tf.random_normal_initializer(stddev=0.02))\n",
    "            self.Who = tf.get_variable('who', [f_h, f_w, h_dim, h_dim],\n",
    "                                      initializer=tf.random_normal_initializer(stddev=0.02))\n",
    "    \n",
    "    def conv2d(self, x, w):\n",
    "        return tf.nn.conv2d(x, w, strides=[1, 1, 1, 1], padding='SAME')\n",
    "    \n",
    "    def __call__(self, input_val):\n",
    "        global batch_size\n",
    "        \n",
    "        c_prev = tf.zeros([batch_size, 9, 8, self.h_dim])\n",
    "        h_prev = tf.zeros([batch_size, 9, 8, self.h_dim])\n",
    "        \n",
    "        for i in range(input_val.get_shape()[0]):\n",
    "            x = input_val[i]\n",
    "            \n",
    "            hi = tf.nn.sigmoid(self.conv2d(x, self.Wxi) + self.conv2d(h_prev, self.Whi))\n",
    "            hf = tf.nn.sigmoid(self.conv2d(x, self.Wxf) + self.conv2d(h_prev, self.Whf))\n",
    "            ho = tf.nn.sigmoid(self.conv2d(x, self.Wxo) + self.conv2d(h_prev, self.Who))\n",
    "            hc = tf.nn.tanh(self.conv2d(x, self.Wxc) + self.conv2d(h_prev, self.Whc))\n",
    "            \n",
    "            c = hf * c_prev + hi * hc\n",
    "            h = ho * tf.nn.tanh(c)\n",
    "            \n",
    "            c_prev = c\n",
    "            h_prev = h\n",
    "        \n",
    "        return h"
   ]
  },
  {
   "cell_type": "code",
   "execution_count": 11,
   "metadata": {
    "collapsed": false,
    "deletable": true,
    "editable": true
   },
   "outputs": [],
   "source": [
    "conv_lstm = ConvLSTMCell(1, 32, 3, 3)\n",
    "hidden = conv_lstm(Xt)"
   ]
  },
  {
   "cell_type": "code",
   "execution_count": 12,
   "metadata": {
    "collapsed": false,
    "deletable": true,
    "editable": true
   },
   "outputs": [],
   "source": [
    "Wf = tf.get_variable('wf', shape=[1, 1, 32, 1],\n",
    "                    initializer=tf.random_normal_initializer(stddev=0.02))\n",
    "out = tf.nn.conv2d(hidden, Wf, strides=[1, 1, 1, 1], padding='SAME') # 1x1 convolution for flattening data\n",
    "pred = tf.reshape(out, [-1, 9, 8])\n",
    "\n",
    "\n",
    "loss = tf.reduce_mean(tf.square(Y - pred)) # MSE loss\n",
    "opt = tf.train.AdamOptimizer(0.01).minimize(loss)"
   ]
  },
  {
   "cell_type": "markdown",
   "metadata": {
    "deletable": true,
    "editable": true
   },
   "source": [
    "## Training\n",
    "\n",
    "Train ConvLSTM Networks with batch size 40, train iter 200.\n",
    "\n",
    "Record training and cross validation errors during training.\n",
    "\n",
    "ConvLSTM 네트워크를 학습시킵니다. batch 크기는 40개, 반복 횟수는 200번입니다.\n",
    "\n",
    "훈련 과정에서 training error 와 cross validation error 을 계산, 기록합니다."
   ]
  },
  {
   "cell_type": "code",
   "execution_count": 13,
   "metadata": {
    "collapsed": false,
    "deletable": true,
    "editable": true
   },
   "outputs": [],
   "source": [
    "sess = tf.Session()\n",
    "sess.run(tf.global_variables_initializer())"
   ]
  },
  {
   "cell_type": "code",
   "execution_count": 14,
   "metadata": {
    "collapsed": false,
    "deletable": true,
    "editable": true,
    "scrolled": false
   },
   "outputs": [
    {
     "name": "stdout",
     "output_type": "stream",
     "text": [
      "0.0 1394.59\n",
      "0.1 607.653\n",
      "0.2 300.767\n",
      "0.3 190.46\n",
      "0.4 170.75\n",
      "0.5 164.492\n",
      "0.6 174.255\n",
      "0.7 168.315\n",
      "0.8 176.021\n",
      "0.9 164.592\n",
      "1.0 182.246\n"
     ]
    }
   ],
   "source": [
    "train_loss = []\n",
    "cv_loss = []\n",
    "\n",
    "for i in range(TRAIN_ITER + 1):\n",
    "    ptr = 0\n",
    "    for _ in range(BATCH_ITER):\n",
    "        _, trainloss = sess.run([opt, loss], feed_dict={X: train_sampled[ptr:ptr+BATCH_SIZE], \n",
    "                                                       Y: train_result[ptr:ptr+BATCH_SIZE],\n",
    "                                                       batch_size: BATCH_SIZE})\n",
    "        \n",
    "        cvloss = sess.run(loss, feed_dict={X: cv_sampled, Y: cv_result, batch_size: CV_SIZE})\n",
    "        \n",
    "        ptr += BATCH_SIZE\n",
    "\n",
    "    train_loss.append(trainloss)\n",
    "    cv_loss.append(cvloss)\n",
    "    \n",
    "    if i % (TRAIN_ITER // 10) == 0:\n",
    "        print(i/TRAIN_ITER, cvloss)"
   ]
  },
  {
   "cell_type": "markdown",
   "metadata": {
    "deletable": true,
    "editable": true
   },
   "source": [
    "## Visualization\n",
    "\n",
    "Visualize loss graph and actual value and estimates for the test set.\n",
    "\n",
    "loss graph 와 test set 에 대한 실제 값과 평가치를 시각화합니다."
   ]
  },
  {
   "cell_type": "code",
   "execution_count": 15,
   "metadata": {
    "collapsed": false,
    "deletable": true,
    "editable": true
   },
   "outputs": [
    {
     "data": {
      "text/plain": [
       "<matplotlib.legend.Legend at 0x7fe8d29d74e0>"
      ]
     },
     "execution_count": 15,
     "metadata": {},
     "output_type": "execute_result"
    },
    {
     "data": {
      "image/png": "[encoded data removed]",
      "text/plain": [
       "<matplotlib.figure.Figure at 0x7fe87a44e358>"
      ]
     },
     "metadata": {},
     "output_type": "display_data"
    }
   ],
   "source": [
    "plt.plot(train_loss, label='train')\n",
    "plt.plot(cv_loss, label='cross val')\n",
    "plt.legend()"
   ]
  },
  {
   "cell_type": "code",
   "execution_count": 16,
   "metadata": {
    "collapsed": false,
    "deletable": true,
    "editable": true
   },
   "outputs": [
    {
     "data": {
      "text/plain": [
       "<matplotlib.legend.Legend at 0x7fe87a417c88>"
      ]
     },
     "execution_count": 16,
     "metadata": {},
     "output_type": "execute_result"
    },
    {
     "data": {
      "image/png": "[encoded data removed]",
      "text/plain": [
       "<matplotlib.figure.Figure at 0x7fe87a569f28>"
      ]
     },
     "metadata": {},
     "output_type": "display_data"
    }
   ],
   "source": [
    "predict = sess.run(pred, feed_dict={X: test_sampled, batch_size: TEST_SIZE})\n",
    "pred_gangnam = list(map(lambda x: x[6][5], predict))\n",
    "real_gangnam = list(map(lambda x: x[6][5], test_result))\n",
    "\n",
    "plt.plot(pred_gangnam, label='predict')\n",
    "plt.plot(real_gangnam, label='real')\n",
    "plt.legend()"
   ]
  },
  {
   "cell_type": "code",
   "execution_count": 17,
   "metadata": {
    "collapsed": false
   },
   "outputs": [
    {
     "data": {
      "text/plain": [
       "<matplotlib.legend.Legend at 0x7fe87a3c1eb8>"
      ]
     },
     "execution_count": 17,
     "metadata": {},
     "output_type": "execute_result"
    },
    {
     "data": {
      "image/png": "[encoded data removed]",
      "text/plain": [
       "<matplotlib.figure.Figure at 0x7fe87a41f0f0>"
      ]
     },
     "metadata": {},
     "output_type": "display_data"
    }
   ],
   "source": [
    "pred_dongdaemun = list(map(lambda x: x[3][5], predict))\n",
    "real_dongdaemun = list(map(lambda x: x[3][5], test_result))\n",
    "\n",
    "plt.plot(pred_dongdaemun, label='predict')\n",
    "plt.plot(real_dongdaemun, label='real')\n",
    "plt.legend()"
   ]
  },
  {
   "cell_type": "code",
   "execution_count": 18,
   "metadata": {
    "collapsed": false,
    "deletable": true,
    "editable": true
   },
   "outputs": [],
   "source": [
    "sess.close()"
   ]
  }
 ],
 "metadata": {
  "kernelspec": {
   "display_name": "Python 3",
   "language": "python",
   "name": "python3"
  },
  "language_info": {
   "codemirror_mode": {
    "name": "ipython",
    "version": 3
   },
   "file_extension": ".py",
   "mimetype": "text/x-python",
   "name": "python",
   "nbconvert_exporter": "python",
   "pygments_lexer": "ipython3",
   "version": "3.5.2"
  }
 },
 "nbformat": 4,
 "nbformat_minor": 2
}
